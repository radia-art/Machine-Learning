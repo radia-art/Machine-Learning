{
 "cells": [
  {
   "cell_type": "markdown",
   "id": "b962db73",
   "metadata": {},
   "source": [
    "## Linear SVM Example"
   ]
  },
  {
   "cell_type": "code",
   "execution_count": 1,
   "id": "0b70e7f1",
   "metadata": {},
   "outputs": [],
   "source": [
    "import matplotlib.pyplot as plt\n",
    "import numpy as np\n",
    "from sklearn import svm"
   ]
  },
  {
   "cell_type": "code",
   "execution_count": 2,
   "id": "943b4465",
   "metadata": {},
   "outputs": [],
   "source": [
    "# linear data\n",
    "X = np.array([1, 5, 1.5, 8, 1, 9, 7, 8.7, 2.3, 5.5, 7.7, 6.1])\n",
    "y = np.array([2, 8, 1.8, 8, 0.6, 11, 10, 9.4, 4, 3, 8.8, 7.5])"
   ]
  },
  {
   "cell_type": "markdown",
   "id": "ffa8e592",
   "metadata": {},
   "source": [
    "#### The reason we're working with numpy arrays is to make the matrix operations faster because they use less memory than Python lists. You could also take advantage of typing the contents of the arrays."
   ]
  },
  {
   "cell_type": "code",
   "execution_count": 3,
   "id": "4a4950ea",
   "metadata": {},
   "outputs": [
    {
     "data": {
      "image/png": "[encoded data removed]",
      "text/plain": [
       "<Figure size 640x480 with 1 Axes>"
      ]
     },
     "metadata": {},
     "output_type": "display_data"
    }
   ],
   "source": [
    "# show unclassified data\n",
    "plt.scatter(X, y)\n",
    "plt.show()"
   ]
  },
  {
   "cell_type": "markdown",
   "id": "b9131adc",
   "metadata": {},
   "source": [
    "#### Once you see what the data look like, you can take a better guess at which algorithm will work best for you. Keep in mind that this is a really simple dataset, so most of the time you'll need to do some work on your data to get it to a usable state."
   ]
  },
  {
   "cell_type": "code",
   "execution_count": 4,
   "id": "d1eb0fda",
   "metadata": {},
   "outputs": [],
   "source": [
    "# shaping data for training the model\n",
    "training_X = np.vstack((X, y)).T  \n",
    "# vstack permet d'empilez les tableaux en séquence verticalement.\n",
    "training_y = [0, 1, 0, 1, 0, 1, 1, 1, 0, 0, 1, 1]"
   ]
  },
  {
   "cell_type": "code",
   "execution_count": 5,
   "id": "eca826ea",
   "metadata": {},
   "outputs": [
    {
     "name": "stdout",
     "output_type": "stream",
     "text": [
      "[[ 1.   2. ]\n",
      " [ 5.   8. ]\n",
      " [ 1.5  1.8]\n",
      " [ 8.   8. ]\n",
      " [ 1.   0.6]\n",
      " [ 9.  11. ]\n",
      " [ 7.  10. ]\n",
      " [ 8.7  9.4]\n",
      " [ 2.3  4. ]\n",
      " [ 5.5  3. ]\n",
      " [ 7.7  8.8]\n",
      " [ 6.1  7.5]]\n"
     ]
    }
   ],
   "source": [
    "print(training_X)"
   ]
  },
  {
   "cell_type": "code",
   "execution_count": 6,
   "id": "062e6afb",
   "metadata": {},
   "outputs": [],
   "source": [
    "# define the model\n",
    "clf = svm.SVC(kernel='linear', C=1.0)"
   ]
  },
  {
   "cell_type": "code",
   "execution_count": 7,
   "id": "28ce4c78",
   "metadata": {},
   "outputs": [
    {
     "data": {
      "text/plain": [
       "SVC(kernel='linear')"
      ]
     },
     "execution_count": 7,
     "metadata": {},
     "output_type": "execute_result"
    }
   ],
   "source": [
    "# train the model\n",
    "clf.fit(training_X, training_y)"
   ]
  },
  {
   "cell_type": "code",
   "execution_count": 10,
   "id": "8cabbf0f",
   "metadata": {},
   "outputs": [
    {
     "name": "stderr",
     "output_type": "stream",
     "text": [
      "No artists with labels found to put in legend.  Note that artists whose label start with an underscore are ignored when legend() is called with no argument.\n"
     ]
    },
    {
     "name": "stdout",
     "output_type": "stream",
     "text": [
      "w =  [0.1332713  0.42667492]\n",
      "a =  -0.3123485705652896\n",
      "XX =  [ 0.          0.26530612  0.53061224  0.79591837  1.06122449  1.32653061\n",
      "  1.59183673  1.85714286  2.12244898  2.3877551   2.65306122  2.91836735\n",
      "  3.18367347  3.44897959  3.71428571  3.97959184  4.24489796  4.51020408\n",
      "  4.7755102   5.04081633  5.30612245  5.57142857  5.83673469  6.10204082\n",
      "  6.36734694  6.63265306  6.89795918  7.16326531  7.42857143  7.69387755\n",
      "  7.95918367  8.2244898   8.48979592  8.75510204  9.02040816  9.28571429\n",
      "  9.55102041  9.81632653 10.08163265 10.34693878 10.6122449  10.87755102\n",
      " 11.14285714 11.40816327 11.67346939 11.93877551 12.20408163 12.46938776\n",
      " 12.73469388 13.        ]\n",
      "yy =  [7.06178311 6.97891513 6.89604714 6.81317915 6.73031116 6.64744317\n",
      " 6.56457518 6.4817072  6.39883921 6.31597122 6.23310323 6.15023524\n",
      " 6.06736726 5.98449927 5.90163128 5.81876329 5.7358953  5.65302732\n",
      " 5.57015933 5.48729134 5.40442335 5.32155536 5.23868737 5.15581939\n",
      " 5.0729514  4.99008341 4.90721542 4.82434743 4.74147945 4.65861146\n",
      " 4.57574347 4.49287548 4.41000749 4.32713951 4.24427152 4.16140353\n",
      " 4.07853554 3.99566755 3.91279957 3.82993158 3.74706359 3.6641956\n",
      " 3.58132761 3.49845962 3.41559164 3.33272365 3.24985566 3.16698767\n",
      " 3.08411968 3.0012517 ]\n"
     ]
    },
    {
     "data": {
      "image/png": "[encoded data removed]",
      "text/plain": [
       "<Figure size 640x480 with 1 Axes>"
      ]
     },
     "metadata": {},
     "output_type": "display_data"
    }
   ],
   "source": [
    "# f(x) = w * x + b\n",
    "\n",
    "# get the weight values for the linear equation from the trained SVM model\n",
    "w = clf.coef_[0]\n",
    "print(\"w = \", w)\n",
    "\n",
    "# get the y-offset for the linear equation\n",
    "a = -w[0] / w[1]\n",
    "print(\"a = \", a)\n",
    "\n",
    "# make the x-axis space for the data points\n",
    "XX = np.linspace(0, 13)\n",
    "print(\"XX = \", XX)\n",
    "\n",
    "# get the y-values to plot the decision boundary\n",
    "yy = a * XX - clf.intercept_[0] / w[1]\n",
    "print(\"yy = \", yy)\n",
    "\n",
    "# plot the decision boundary\n",
    "plt.plot(XX, yy, 'r-')\n",
    "\n",
    "# show the plot visually\n",
    "plt.scatter(training_X[:, 0], training_X[:, 1], c=training_y) # c pour la couleur\n",
    "plt.legend()\n",
    "plt.show()"
   ]
  },
  {
   "cell_type": "code",
   "execution_count": null,
   "id": "100bc0d3",
   "metadata": {},
   "outputs": [],
   "source": []
  }
 ],
 "metadata": {
  "kernelspec": {
   "display_name": "Python 3 (ipykernel)",
   "language": "python",
   "name": "python3"
  },
  "language_info": {
   "codemirror_mode": {
    "name": "ipython",
    "version": 3
   },
   "file_extension": ".py",
   "mimetype": "text/x-python",
   "name": "python",
   "nbconvert_exporter": "python",
   "pygments_lexer": "ipython3",
   "version": "3.9.13"
  },
  "varInspector": {
   "cols": {
    "lenName": 16,
    "lenType": 16,
    "lenVar": 40
   },
   "kernels_config": {
    "python": {
     "delete_cmd_postfix": "",
     "delete_cmd_prefix": "del ",
     "library": "var_list.py",
     "varRefreshCmd": "print(var_dic_list())"
    },
    "r": {
     "delete_cmd_postfix": ") ",
     "delete_cmd_prefix": "rm(",
     "library": "var_list.r",
     "varRefreshCmd": "cat(var_dic_list()) "
    }
   },
   "types_to_exclude": [
    "module",
    "function",
    "builtin_function_or_method",
    "instance",
    "_Feature"
   ],
   "window_display": false
  }
 },
 "nbformat": 4,
 "nbformat_minor": 5
}
