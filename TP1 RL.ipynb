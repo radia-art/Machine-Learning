{
 "cells": [
  {
   "cell_type": "markdown",
   "id": "27816699",
   "metadata": {},
   "source": [
    "# EX1"
   ]
  },
  {
   "cell_type": "code",
   "execution_count": null,
   "id": "9f6827af",
   "metadata": {},
   "outputs": [],
   "source": [
    "#Q1\n",
    "import pandas as pd\n",
    "import numpy as np\n",
    "from sklearn import linear_model\n",
    "from sklearn.model_selection import train_test_split"
   ]
  },
  {
   "cell_type": "code",
   "execution_count": 24,
   "id": "b6a40dc0",
   "metadata": {},
   "outputs": [
    {
     "data": {
      "text/plain": [
       "{'data': array([[   8.3252    ,   41.        ,    6.98412698, ...,    2.55555556,\n",
       "           37.88      , -122.23      ],\n",
       "        [   8.3014    ,   21.        ,    6.23813708, ...,    2.10984183,\n",
       "           37.86      , -122.22      ],\n",
       "        [   7.2574    ,   52.        ,    8.28813559, ...,    2.80225989,\n",
       "           37.85      , -122.24      ],\n",
       "        ...,\n",
       "        [   1.7       ,   17.        ,    5.20554273, ...,    2.3256351 ,\n",
       "           39.43      , -121.22      ],\n",
       "        [   1.8672    ,   18.        ,    5.32951289, ...,    2.12320917,\n",
       "           39.43      , -121.32      ],\n",
       "        [   2.3886    ,   16.        ,    5.25471698, ...,    2.61698113,\n",
       "           39.37      , -121.24      ]]),\n",
       " 'target': array([4.526, 3.585, 3.521, ..., 0.923, 0.847, 0.894]),\n",
       " 'frame': None,\n",
       " 'target_names': ['MedHouseVal'],\n",
       " 'feature_names': ['MedInc',\n",
       "  'HouseAge',\n",
       "  'AveRooms',\n",
       "  'AveBedrms',\n",
       "  'Population',\n",
       "  'AveOccup',\n",
       "  'Latitude',\n",
       "  'Longitude'],\n",
       " 'DESCR': '.. _california_housing_dataset:\\n\\nCalifornia Housing dataset\\n--------------------------\\n\\n**Data Set Characteristics:**\\n\\n    :Number of Instances: 20640\\n\\n    :Number of Attributes: 8 numeric, predictive attributes and the target\\n\\n    :Attribute Information:\\n        - MedInc        median income in block group\\n        - HouseAge      median house age in block group\\n        - AveRooms      average number of rooms per household\\n        - AveBedrms     average number of bedrooms per household\\n        - Population    block group population\\n        - AveOccup      average number of household members\\n        - Latitude      block group latitude\\n        - Longitude     block group longitude\\n\\n    :Missing Attribute Values: None\\n\\nThis dataset was obtained from the StatLib repository.\\nhttps://www.dcc.fc.up.pt/~ltorgo/Regression/cal_housing.html\\n\\nThe target variable is the median house value for California districts,\\nexpressed in hundreds of thousands of dollars ($100,000).\\n\\nThis dataset was derived from the 1990 U.S. census, using one row per census\\nblock group. A block group is the smallest geographical unit for which the U.S.\\nCensus Bureau publishes sample data (a block group typically has a population\\nof 600 to 3,000 people).\\n\\nA household is a group of people residing within a home. Since the average\\nnumber of rooms and bedrooms in this dataset are provided per household, these\\ncolumns may take surprisingly large values for block groups with few households\\nand many empty houses, such as vacation resorts.\\n\\nIt can be downloaded/loaded using the\\n:func:`sklearn.datasets.fetch_california_housing` function.\\n\\n.. topic:: References\\n\\n    - Pace, R. Kelley and Ronald Barry, Sparse Spatial Autoregressions,\\n      Statistics and Probability Letters, 33 (1997) 291-297\\n'}"
      ]
     },
     "execution_count": 24,
     "metadata": {},
     "output_type": "execute_result"
    }
   ],
   "source": [
    "#Q2\n",
    "from sklearn.datasets import fetch_california_housing\n",
    "from sklearn.metrics import mean_squared_error\n",
    "housing = fetch_california_housing()\n",
    "\n",
    "housing"
   ]
  },
  {
   "cell_type": "code",
   "execution_count": 20,
   "id": "1eaeda1e",
   "metadata": {},
   "outputs": [],
   "source": [
    "#Q3\n",
    "X=housing.data\n",
    "Y=housing.target"
   ]
  },
  {
   "cell_type": "code",
   "execution_count": 22,
   "id": "f8a02286",
   "metadata": {},
   "outputs": [],
   "source": [
    "#Q4\n",
    "df_x=pd.DataFrame(housing.data,columns=housing.feature_names)\n",
    "df_y=pd.DataFrame(housing.target)"
   ]
  },
  {
   "cell_type": "markdown",
   "id": "42a9a81c",
   "metadata": {},
   "source": []
  },
  {
   "cell_type": "code",
   "execution_count": 29,
   "id": "cf0baf65",
   "metadata": {},
   "outputs": [
    {
     "data": {
      "text/html": [
       "<div>\n",
       "<style scoped>\n",
       "    .dataframe tbody tr th:only-of-type {\n",
       "        vertical-align: middle;\n",
       "    }\n",
       "\n",
       "    .dataframe tbody tr th {\n",
       "        vertical-align: top;\n",
       "    }\n",
       "\n",
       "    .dataframe thead th {\n",
       "        text-align: right;\n",
       "    }\n",
       "</style>\n",
       "<table border=\"1\" class=\"dataframe\">\n",
       "  <thead>\n",
       "    <tr style=\"text-align: right;\">\n",
       "      <th></th>\n",
       "      <th>MedInc</th>\n",
       "      <th>HouseAge</th>\n",
       "      <th>AveRooms</th>\n",
       "      <th>AveBedrms</th>\n",
       "      <th>Population</th>\n",
       "      <th>AveOccup</th>\n",
       "      <th>Latitude</th>\n",
       "      <th>Longitude</th>\n",
       "    </tr>\n",
       "  </thead>\n",
       "  <tbody>\n",
       "    <tr>\n",
       "      <th>0</th>\n",
       "      <td>8.3252</td>\n",
       "      <td>41.0</td>\n",
       "      <td>6.984127</td>\n",
       "      <td>1.023810</td>\n",
       "      <td>322.0</td>\n",
       "      <td>2.555556</td>\n",
       "      <td>37.88</td>\n",
       "      <td>-122.23</td>\n",
       "    </tr>\n",
       "    <tr>\n",
       "      <th>1</th>\n",
       "      <td>8.3014</td>\n",
       "      <td>21.0</td>\n",
       "      <td>6.238137</td>\n",
       "      <td>0.971880</td>\n",
       "      <td>2401.0</td>\n",
       "      <td>2.109842</td>\n",
       "      <td>37.86</td>\n",
       "      <td>-122.22</td>\n",
       "    </tr>\n",
       "    <tr>\n",
       "      <th>2</th>\n",
       "      <td>7.2574</td>\n",
       "      <td>52.0</td>\n",
       "      <td>8.288136</td>\n",
       "      <td>1.073446</td>\n",
       "      <td>496.0</td>\n",
       "      <td>2.802260</td>\n",
       "      <td>37.85</td>\n",
       "      <td>-122.24</td>\n",
       "    </tr>\n",
       "    <tr>\n",
       "      <th>3</th>\n",
       "      <td>5.6431</td>\n",
       "      <td>52.0</td>\n",
       "      <td>5.817352</td>\n",
       "      <td>1.073059</td>\n",
       "      <td>558.0</td>\n",
       "      <td>2.547945</td>\n",
       "      <td>37.85</td>\n",
       "      <td>-122.25</td>\n",
       "    </tr>\n",
       "    <tr>\n",
       "      <th>4</th>\n",
       "      <td>3.8462</td>\n",
       "      <td>52.0</td>\n",
       "      <td>6.281853</td>\n",
       "      <td>1.081081</td>\n",
       "      <td>565.0</td>\n",
       "      <td>2.181467</td>\n",
       "      <td>37.85</td>\n",
       "      <td>-122.25</td>\n",
       "    </tr>\n",
       "  </tbody>\n",
       "</table>\n",
       "</div>"
      ],
      "text/plain": [
       "   MedInc  HouseAge  AveRooms  AveBedrms  Population  AveOccup  Latitude  \\\n",
       "0  8.3252      41.0  6.984127   1.023810       322.0  2.555556     37.88   \n",
       "1  8.3014      21.0  6.238137   0.971880      2401.0  2.109842     37.86   \n",
       "2  7.2574      52.0  8.288136   1.073446       496.0  2.802260     37.85   \n",
       "3  5.6431      52.0  5.817352   1.073059       558.0  2.547945     37.85   \n",
       "4  3.8462      52.0  6.281853   1.081081       565.0  2.181467     37.85   \n",
       "\n",
       "   Longitude  \n",
       "0    -122.23  \n",
       "1    -122.22  \n",
       "2    -122.24  \n",
       "3    -122.25  \n",
       "4    -122.25  "
      ]
     },
     "execution_count": 29,
     "metadata": {},
     "output_type": "execute_result"
    }
   ],
   "source": [
    "\n",
    "#Q5\n",
    "df_x.head(5)"
   ]
  },
  {
   "cell_type": "code",
   "execution_count": 31,
   "id": "0153031e",
   "metadata": {},
   "outputs": [],
   "source": [
    "#Q6\n",
    "regL=linear_model.LinearRegression()"
   ]
  },
  {
   "cell_type": "code",
   "execution_count": 32,
   "id": "673f7bbd",
   "metadata": {},
   "outputs": [],
   "source": [
    "#Q7\n",
    "x_train,x_test,y_train,y_test=train_test_split(df_x,df_y, test_size=0.2)"
   ]
  },
  {
   "cell_type": "code",
   "execution_count": 33,
   "id": "bafce399",
   "metadata": {},
   "outputs": [
    {
     "name": "stdout",
     "output_type": "stream",
     "text": [
      "       MedInc  HouseAge   AveRooms  AveBedrms  Population  AveOccup  Latitude  \\\n",
      "5717   5.5756      41.0   4.542857   0.993407      1282.0  2.817582     34.20   \n",
      "4620   2.6218      49.0   4.291246   1.060606      1539.0  2.590909     34.08   \n",
      "2175   2.9315      27.0   5.118644   1.166102       847.0  2.871186     36.77   \n",
      "17894  3.0357      39.0   3.511811   1.015748       317.0  2.496063     37.37   \n",
      "5878   4.2212      45.0   5.148148   1.040741       538.0  1.992593     34.16   \n",
      "...       ...       ...        ...        ...         ...       ...       ...   \n",
      "2549   1.9688      43.0   4.740664   0.993776      1169.0  2.425311     40.79   \n",
      "16800  5.1205      42.0   5.727960   1.080605      1255.0  3.161209     37.67   \n",
      "17151  6.6136      39.0   5.891626   1.034483       937.0  2.307882     37.43   \n",
      "16160  3.6429      42.0   5.246628   1.115607      1419.0  2.734104     37.78   \n",
      "11710  3.9722      21.0  17.250000   3.194444       309.0  2.145833     39.14   \n",
      "\n",
      "       Longitude  \n",
      "5717     -118.24  \n",
      "4620     -118.31  \n",
      "2175     -119.85  \n",
      "17894    -121.95  \n",
      "5878     -118.35  \n",
      "...          ...  \n",
      "2549     -124.17  \n",
      "16800    -122.42  \n",
      "17151    -122.19  \n",
      "16160    -122.49  \n",
      "11710    -120.16  \n",
      "\n",
      "[16512 rows x 8 columns]\n",
      "=============================================\n",
      "        MedInc  HouseAge   AveRooms  AveBedrms  Population  AveOccup  \\\n",
      "17101   5.6629      36.0   5.665116   0.983256      3081.0  2.866047   \n",
      "1443    5.0915      31.0   5.953079   0.988270       867.0  2.542522   \n",
      "17321   3.0185      17.0   4.205479   0.863014       434.0  1.981735   \n",
      "10040   2.3125      48.0   5.025714   1.111429       716.0  2.045714   \n",
      "17020   5.4322      35.0   6.903465   1.101485      1156.0  2.861386   \n",
      "...        ...       ...        ...        ...         ...       ...   \n",
      "16419   2.9000      38.0   5.947368   1.157895       125.0  3.289474   \n",
      "16011  10.9590      52.0   7.153310   0.979094       791.0  2.756098   \n",
      "16183   0.8738      52.0   3.376471   1.400000       154.0  1.811765   \n",
      "18764   1.4911      18.0   6.215859   1.453744       494.0  2.176211   \n",
      "13980   1.6875      38.0  17.269231   4.980769       106.0  2.038462   \n",
      "\n",
      "       Latitude  Longitude  \n",
      "17101     37.46    -122.23  \n",
      "1443      37.98    -122.00  \n",
      "17321     34.61    -120.16  \n",
      "10040     39.20    -121.05  \n",
      "17020     37.51    -122.30  \n",
      "...         ...        ...  \n",
      "16419     37.90    -121.31  \n",
      "16011     37.74    -122.46  \n",
      "16183     37.96    -121.29  \n",
      "18764     40.75    -122.31  \n",
      "13980     34.19    -116.88  \n",
      "\n",
      "[4128 rows x 8 columns]\n"
     ]
    }
   ],
   "source": [
    "#Q8\n",
    "print(x_train)\n",
    "print(\"=============================================\")\n",
    "print(x_test)"
   ]
  },
  {
   "cell_type": "code",
   "execution_count": 35,
   "id": "dd542b42",
   "metadata": {},
   "outputs": [
    {
     "data": {
      "text/html": [
       "<style>#sk-container-id-1 {color: black;background-color: white;}#sk-container-id-1 pre{padding: 0;}#sk-container-id-1 div.sk-toggleable {background-color: white;}#sk-container-id-1 label.sk-toggleable__label {cursor: pointer;display: block;width: 100%;margin-bottom: 0;padding: 0.3em;box-sizing: border-box;text-align: center;}#sk-container-id-1 label.sk-toggleable__label-arrow:before {content: \"▸\";float: left;margin-right: 0.25em;color: #696969;}#sk-container-id-1 label.sk-toggleable__label-arrow:hover:before {color: black;}#sk-container-id-1 div.sk-estimator:hover label.sk-toggleable__label-arrow:before {color: black;}#sk-container-id-1 div.sk-toggleable__content {max-height: 0;max-width: 0;overflow: hidden;text-align: left;background-color: #f0f8ff;}#sk-container-id-1 div.sk-toggleable__content pre {margin: 0.2em;color: black;border-radius: 0.25em;background-color: #f0f8ff;}#sk-container-id-1 input.sk-toggleable__control:checked~div.sk-toggleable__content {max-height: 200px;max-width: 100%;overflow: auto;}#sk-container-id-1 input.sk-toggleable__control:checked~label.sk-toggleable__label-arrow:before {content: \"▾\";}#sk-container-id-1 div.sk-estimator input.sk-toggleable__control:checked~label.sk-toggleable__label {background-color: #d4ebff;}#sk-container-id-1 div.sk-label input.sk-toggleable__control:checked~label.sk-toggleable__label {background-color: #d4ebff;}#sk-container-id-1 input.sk-hidden--visually {border: 0;clip: rect(1px 1px 1px 1px);clip: rect(1px, 1px, 1px, 1px);height: 1px;margin: -1px;overflow: hidden;padding: 0;position: absolute;width: 1px;}#sk-container-id-1 div.sk-estimator {font-family: monospace;background-color: #f0f8ff;border: 1px dotted black;border-radius: 0.25em;box-sizing: border-box;margin-bottom: 0.5em;}#sk-container-id-1 div.sk-estimator:hover {background-color: #d4ebff;}#sk-container-id-1 div.sk-parallel-item::after {content: \"\";width: 100%;border-bottom: 1px solid gray;flex-grow: 1;}#sk-container-id-1 div.sk-label:hover label.sk-toggleable__label {background-color: #d4ebff;}#sk-container-id-1 div.sk-serial::before {content: \"\";position: absolute;border-left: 1px solid gray;box-sizing: border-box;top: 0;bottom: 0;left: 50%;z-index: 0;}#sk-container-id-1 div.sk-serial {display: flex;flex-direction: column;align-items: center;background-color: white;padding-right: 0.2em;padding-left: 0.2em;position: relative;}#sk-container-id-1 div.sk-item {position: relative;z-index: 1;}#sk-container-id-1 div.sk-parallel {display: flex;align-items: stretch;justify-content: center;background-color: white;position: relative;}#sk-container-id-1 div.sk-item::before, #sk-container-id-1 div.sk-parallel-item::before {content: \"\";position: absolute;border-left: 1px solid gray;box-sizing: border-box;top: 0;bottom: 0;left: 50%;z-index: -1;}#sk-container-id-1 div.sk-parallel-item {display: flex;flex-direction: column;z-index: 1;position: relative;background-color: white;}#sk-container-id-1 div.sk-parallel-item:first-child::after {align-self: flex-end;width: 50%;}#sk-container-id-1 div.sk-parallel-item:last-child::after {align-self: flex-start;width: 50%;}#sk-container-id-1 div.sk-parallel-item:only-child::after {width: 0;}#sk-container-id-1 div.sk-dashed-wrapped {border: 1px dashed gray;margin: 0 0.4em 0.5em 0.4em;box-sizing: border-box;padding-bottom: 0.4em;background-color: white;}#sk-container-id-1 div.sk-label label {font-family: monospace;font-weight: bold;display: inline-block;line-height: 1.2em;}#sk-container-id-1 div.sk-label-container {text-align: center;}#sk-container-id-1 div.sk-container {/* jupyter's `normalize.less` sets `[hidden] { display: none; }` but bootstrap.min.css set `[hidden] { display: none !important; }` so we also need the `!important` here to be able to override the default hidden behavior on the sphinx rendered scikit-learn.org. See: https://github.com/scikit-learn/scikit-learn/issues/21755 */display: inline-block !important;position: relative;}#sk-container-id-1 div.sk-text-repr-fallback {display: none;}</style><div id=\"sk-container-id-1\" class=\"sk-top-container\"><div class=\"sk-text-repr-fallback\"><pre>LinearRegression()</pre><b>In a Jupyter environment, please rerun this cell to show the HTML representation or trust the notebook. <br />On GitHub, the HTML representation is unable to render, please try loading this page with nbviewer.org.</b></div><div class=\"sk-container\" hidden><div class=\"sk-item\"><div class=\"sk-estimator sk-toggleable\"><input class=\"sk-toggleable__control sk-hidden--visually\" id=\"sk-estimator-id-1\" type=\"checkbox\" checked><label for=\"sk-estimator-id-1\" class=\"sk-toggleable__label sk-toggleable__label-arrow\">LinearRegression</label><div class=\"sk-toggleable__content\"><pre>LinearRegression()</pre></div></div></div></div></div>"
      ],
      "text/plain": [
       "LinearRegression()"
      ]
     },
     "execution_count": 35,
     "metadata": {},
     "output_type": "execute_result"
    }
   ],
   "source": [
    "#Q9\n",
    "regL.fit(x_train,y_train)"
   ]
  },
  {
   "cell_type": "code",
   "execution_count": 37,
   "id": "8a7ea5b7",
   "metadata": {},
   "outputs": [],
   "source": [
    "#Q10\n",
    "y_pred=regL.predict(x_test)"
   ]
  },
  {
   "cell_type": "code",
   "execution_count": 38,
   "id": "2ffd9f70",
   "metadata": {},
   "outputs": [
    {
     "name": "stdout",
     "output_type": "stream",
     "text": [
      "[[3.20523374]\n",
      " [2.57623981]\n",
      " [2.27895012]\n",
      " ...\n",
      " [1.16785802]\n",
      " [0.11286721]\n",
      " [1.82608474]]\n"
     ]
    }
   ],
   "source": [
    "#Q11\n",
    "print(y_pred)"
   ]
  },
  {
   "cell_type": "code",
   "execution_count": 39,
   "id": "1e30e372",
   "metadata": {},
   "outputs": [
    {
     "name": "stdout",
     "output_type": "stream",
     "text": [
      "             0\n",
      "17101  3.43600\n",
      "1443   1.93200\n",
      "17321  5.00001\n",
      "10040  1.08300\n",
      "17020  3.91000\n",
      "...        ...\n",
      "16419  1.25000\n",
      "16011  5.00001\n",
      "16183  0.75000\n",
      "18764  0.75800\n",
      "13980  2.25000\n",
      "\n",
      "[4128 rows x 1 columns]\n"
     ]
    }
   ],
   "source": [
    "#Q12\n",
    "print(y_test)"
   ]
  },
  {
   "cell_type": "code",
   "execution_count": 40,
   "id": "cc6b7ebd",
   "metadata": {},
   "outputs": [],
   "source": [
    "#Q13\n"
   ]
  },
  {
   "cell_type": "code",
   "execution_count": 44,
   "id": "4913ac64",
   "metadata": {},
   "outputs": [
    {
     "data": {
      "text/plain": [
       "0    0.520683\n",
       "dtype: float64"
      ]
     },
     "execution_count": 44,
     "metadata": {},
     "output_type": "execute_result"
    }
   ],
   "source": [
    "#Q14\n",
    "MSE=np.mean((y_test-y_pred)**2)\n",
    "MSE"
   ]
  },
  {
   "cell_type": "code",
   "execution_count": 47,
   "id": "16761bc9",
   "metadata": {},
   "outputs": [],
   "source": [
    "#Q15\n",
    "MSE\n",
    "#Q16\n",
    "error_quatratic=mean_squared_error(y_test,y_pred)\n"
   ]
  },
  {
   "cell_type": "code",
   "execution_count": 53,
   "id": "5c2b237e",
   "metadata": {},
   "outputs": [
    {
     "data": {
      "text/plain": [
       "0.5206834061542083"
      ]
     },
     "execution_count": 53,
     "metadata": {},
     "output_type": "execute_result"
    }
   ],
   "source": [
    "error_quatratic"
   ]
  },
  {
   "cell_type": "code",
   "execution_count": 54,
   "id": "21d1be27",
   "metadata": {},
   "outputs": [
    {
     "data": {
      "image/png": "[encoded data removed]",
      "text/plain": [
       "<Figure size 640x480 with 1 Axes>"
      ]
     },
     "metadata": {},
     "output_type": "display_data"
    }
   ],
   "source": [
    "x = list(pd.RangeIndex(0, 4128))\n",
    "plt.scatter(x, y_pred, c='r', label='y_pred')\n",
    "plt.scatter(x, y_test, c='g', label='y_test')\n",
    "\n",
    "plt.xlabel('X-axis')\n",
    "plt.ylabel('Y-axis')\n",
    "plt.legend()\n",
    "\n",
    "plt.show()"
   ]
  },
  {
   "cell_type": "markdown",
   "id": "e85a2573",
   "metadata": {},
   "source": [
    "# EX2"
   ]
  },
  {
   "cell_type": "code",
   "execution_count": 51,
   "id": "e12a7da0",
   "metadata": {},
   "outputs": [],
   "source": [
    "#Q1\n",
    "#pandas, matplotlib, et sklearn\n",
    "import matplotlib.pyplot as plt\n",
    "import pandas as pd\n",
    "from sklearn.model_selection import train_test_split\n",
    "from sklearn.linear_model import LinearRegression"
   ]
  },
  {
   "cell_type": "code",
   "execution_count": 55,
   "id": "35e35e3d",
   "metadata": {},
   "outputs": [],
   "source": [
    "#Q2\n",
    "dataset =pd.read_csv('valeurs_trimestrielles.csv',sep=';')"
   ]
  },
  {
   "cell_type": "code",
   "execution_count": 74,
   "id": "67ff2396",
   "metadata": {},
   "outputs": [],
   "source": [
    "#Q3\n",
    "X=dataset.iloc[:, :-1].values\n",
    "Y=dataset.iloc[:, -1].values"
   ]
  },
  {
   "cell_type": "code",
   "execution_count": 75,
   "id": "f4313503",
   "metadata": {
    "scrolled": true
   },
   "outputs": [
    {
     "data": {
      "text/html": [
       "<div>\n",
       "<style scoped>\n",
       "    .dataframe tbody tr th:only-of-type {\n",
       "        vertical-align: middle;\n",
       "    }\n",
       "\n",
       "    .dataframe tbody tr th {\n",
       "        vertical-align: top;\n",
       "    }\n",
       "\n",
       "    .dataframe thead th {\n",
       "        text-align: right;\n",
       "    }\n",
       "</style>\n",
       "<table border=\"1\" class=\"dataframe\">\n",
       "  <thead>\n",
       "    <tr style=\"text-align: right;\">\n",
       "      <th></th>\n",
       "      <th>Periode</th>\n",
       "      <th>Indice</th>\n",
       "    </tr>\n",
       "  </thead>\n",
       "  <tbody>\n",
       "    <tr>\n",
       "      <th>0</th>\n",
       "      <td>67</td>\n",
       "      <td>129.72</td>\n",
       "    </tr>\n",
       "    <tr>\n",
       "      <th>1</th>\n",
       "      <td>68</td>\n",
       "      <td>129.38</td>\n",
       "    </tr>\n",
       "    <tr>\n",
       "      <th>2</th>\n",
       "      <td>66</td>\n",
       "      <td>129.03</td>\n",
       "    </tr>\n",
       "    <tr>\n",
       "      <th>3</th>\n",
       "      <td>66</td>\n",
       "      <td>128.45</td>\n",
       "    </tr>\n",
       "    <tr>\n",
       "      <th>4</th>\n",
       "      <td>65</td>\n",
       "      <td>127.77</td>\n",
       "    </tr>\n",
       "  </tbody>\n",
       "</table>\n",
       "</div>"
      ],
      "text/plain": [
       "   Periode  Indice\n",
       "0       67  129.72\n",
       "1       68  129.38\n",
       "2       66  129.03\n",
       "3       66  128.45\n",
       "4       65  127.77"
      ]
     },
     "execution_count": 75,
     "metadata": {},
     "output_type": "execute_result"
    }
   ],
   "source": [
    "#Q4\n",
    "dataset.head(5)"
   ]
  },
  {
   "cell_type": "code",
   "execution_count": 76,
   "id": "7208fe7a",
   "metadata": {},
   "outputs": [],
   "source": [
    "#Q5\n",
    "x_train,x_test,y_train,y_test=train_test_split(X,Y, test_size=0.3)"
   ]
  },
  {
   "cell_type": "code",
   "execution_count": 77,
   "id": "e9135846",
   "metadata": {},
   "outputs": [],
   "source": [
    "#Q6\n",
    "reg=linear_model.LinearRegression()"
   ]
  },
  {
   "cell_type": "code",
   "execution_count": 78,
   "id": "8a403fe4",
   "metadata": {},
   "outputs": [
    {
     "name": "stdout",
     "output_type": "stream",
     "text": [
      "[[22]\n",
      " [58]\n",
      " [46]\n",
      " [37]\n",
      " [42]\n",
      " [55]\n",
      " [62]\n",
      " [ 4]\n",
      " [32]\n",
      " [14]\n",
      " [33]\n",
      " [24]\n",
      " [25]\n",
      " [65]\n",
      " [19]\n",
      " [26]\n",
      " [35]\n",
      " [59]\n",
      " [66]\n",
      " [16]\n",
      " [38]\n",
      " [10]\n",
      " [40]\n",
      " [ 9]\n",
      " [54]\n",
      " [12]\n",
      " [68]\n",
      " [39]\n",
      " [21]\n",
      " [23]\n",
      " [56]\n",
      " [53]\n",
      " [61]\n",
      " [29]\n",
      " [28]\n",
      " [13]\n",
      " [36]\n",
      " [18]\n",
      " [ 3]\n",
      " [57]\n",
      " [34]\n",
      " [17]\n",
      " [49]\n",
      " [48]\n",
      " [ 5]\n",
      " [ 7]]\n",
      "==============================\n",
      "[113.68 125.33 124.66 120.31 123.55 125.28 126.46 106.17 117.81 110.57\n",
      " 118.26 115.12 116.07 127.77 112.77 117.03 119.17 125.5  129.03 111.47\n",
      " 120.95 108.72 122.37 108.28 125.26 109.64 129.38 121.68 113.37 114.3\n",
      " 125.26 125.25 126.19 117.59 117.7  110.08 119.69 112.43 105.61 125.25\n",
      " 118.7  111.98 125.15 125.   106.61 107.49]\n"
     ]
    }
   ],
   "source": [
    "#Q7\n",
    "print(x_train)\n",
    "print(\"==============================\")\n",
    "print(y_train)"
   ]
  },
  {
   "cell_type": "code",
   "execution_count": 79,
   "id": "852aa1e3",
   "metadata": {},
   "outputs": [
    {
     "data": {
      "text/html": [
       "<style>#sk-container-id-4 {color: black;background-color: white;}#sk-container-id-4 pre{padding: 0;}#sk-container-id-4 div.sk-toggleable {background-color: white;}#sk-container-id-4 label.sk-toggleable__label {cursor: pointer;display: block;width: 100%;margin-bottom: 0;padding: 0.3em;box-sizing: border-box;text-align: center;}#sk-container-id-4 label.sk-toggleable__label-arrow:before {content: \"▸\";float: left;margin-right: 0.25em;color: #696969;}#sk-container-id-4 label.sk-toggleable__label-arrow:hover:before {color: black;}#sk-container-id-4 div.sk-estimator:hover label.sk-toggleable__label-arrow:before {color: black;}#sk-container-id-4 div.sk-toggleable__content {max-height: 0;max-width: 0;overflow: hidden;text-align: left;background-color: #f0f8ff;}#sk-container-id-4 div.sk-toggleable__content pre {margin: 0.2em;color: black;border-radius: 0.25em;background-color: #f0f8ff;}#sk-container-id-4 input.sk-toggleable__control:checked~div.sk-toggleable__content {max-height: 200px;max-width: 100%;overflow: auto;}#sk-container-id-4 input.sk-toggleable__control:checked~label.sk-toggleable__label-arrow:before {content: \"▾\";}#sk-container-id-4 div.sk-estimator input.sk-toggleable__control:checked~label.sk-toggleable__label {background-color: #d4ebff;}#sk-container-id-4 div.sk-label input.sk-toggleable__control:checked~label.sk-toggleable__label {background-color: #d4ebff;}#sk-container-id-4 input.sk-hidden--visually {border: 0;clip: rect(1px 1px 1px 1px);clip: rect(1px, 1px, 1px, 1px);height: 1px;margin: -1px;overflow: hidden;padding: 0;position: absolute;width: 1px;}#sk-container-id-4 div.sk-estimator {font-family: monospace;background-color: #f0f8ff;border: 1px dotted black;border-radius: 0.25em;box-sizing: border-box;margin-bottom: 0.5em;}#sk-container-id-4 div.sk-estimator:hover {background-color: #d4ebff;}#sk-container-id-4 div.sk-parallel-item::after {content: \"\";width: 100%;border-bottom: 1px solid gray;flex-grow: 1;}#sk-container-id-4 div.sk-label:hover label.sk-toggleable__label {background-color: #d4ebff;}#sk-container-id-4 div.sk-serial::before {content: \"\";position: absolute;border-left: 1px solid gray;box-sizing: border-box;top: 0;bottom: 0;left: 50%;z-index: 0;}#sk-container-id-4 div.sk-serial {display: flex;flex-direction: column;align-items: center;background-color: white;padding-right: 0.2em;padding-left: 0.2em;position: relative;}#sk-container-id-4 div.sk-item {position: relative;z-index: 1;}#sk-container-id-4 div.sk-parallel {display: flex;align-items: stretch;justify-content: center;background-color: white;position: relative;}#sk-container-id-4 div.sk-item::before, #sk-container-id-4 div.sk-parallel-item::before {content: \"\";position: absolute;border-left: 1px solid gray;box-sizing: border-box;top: 0;bottom: 0;left: 50%;z-index: -1;}#sk-container-id-4 div.sk-parallel-item {display: flex;flex-direction: column;z-index: 1;position: relative;background-color: white;}#sk-container-id-4 div.sk-parallel-item:first-child::after {align-self: flex-end;width: 50%;}#sk-container-id-4 div.sk-parallel-item:last-child::after {align-self: flex-start;width: 50%;}#sk-container-id-4 div.sk-parallel-item:only-child::after {width: 0;}#sk-container-id-4 div.sk-dashed-wrapped {border: 1px dashed gray;margin: 0 0.4em 0.5em 0.4em;box-sizing: border-box;padding-bottom: 0.4em;background-color: white;}#sk-container-id-4 div.sk-label label {font-family: monospace;font-weight: bold;display: inline-block;line-height: 1.2em;}#sk-container-id-4 div.sk-label-container {text-align: center;}#sk-container-id-4 div.sk-container {/* jupyter's `normalize.less` sets `[hidden] { display: none; }` but bootstrap.min.css set `[hidden] { display: none !important; }` so we also need the `!important` here to be able to override the default hidden behavior on the sphinx rendered scikit-learn.org. See: https://github.com/scikit-learn/scikit-learn/issues/21755 */display: inline-block !important;position: relative;}#sk-container-id-4 div.sk-text-repr-fallback {display: none;}</style><div id=\"sk-container-id-4\" class=\"sk-top-container\"><div class=\"sk-text-repr-fallback\"><pre>LinearRegression()</pre><b>In a Jupyter environment, please rerun this cell to show the HTML representation or trust the notebook. <br />On GitHub, the HTML representation is unable to render, please try loading this page with nbviewer.org.</b></div><div class=\"sk-container\" hidden><div class=\"sk-item\"><div class=\"sk-estimator sk-toggleable\"><input class=\"sk-toggleable__control sk-hidden--visually\" id=\"sk-estimator-id-4\" type=\"checkbox\" checked><label for=\"sk-estimator-id-4\" class=\"sk-toggleable__label sk-toggleable__label-arrow\">LinearRegression</label><div class=\"sk-toggleable__content\"><pre>LinearRegression()</pre></div></div></div></div></div>"
      ],
      "text/plain": [
       "LinearRegression()"
      ]
     },
     "execution_count": 79,
     "metadata": {},
     "output_type": "execute_result"
    }
   ],
   "source": [
    "#Q8\n",
    "reg.fit(x_train,y_train)"
   ]
  },
  {
   "cell_type": "code",
   "execution_count": 80,
   "id": "e66e3970",
   "metadata": {},
   "outputs": [
    {
     "data": {
      "text/plain": [
       "array([113.21562089, 121.45094975, 128.61210528, 129.68627861,\n",
       "       122.1670653 , 122.88318085, 115.72202532, 123.95735418,\n",
       "       108.20281202, 111.42533201, 130.04433638, 121.80900752,\n",
       "       124.31541196, 117.15425643, 116.79619865, 120.73483419,\n",
       "       124.67346974, 108.91892757, 109.9931009 , 127.53793195,\n",
       "       128.97016305])"
      ]
     },
     "execution_count": 80,
     "metadata": {},
     "output_type": "execute_result"
    }
   ],
   "source": [
    "#Q9\n",
    "predictions=reg.predict(x_test)\n",
    "predictions"
   ]
  },
  {
   "cell_type": "code",
   "execution_count": 81,
   "id": "1c9fd010",
   "metadata": {},
   "outputs": [
    {
     "data": {
      "image/png": "[encoded data removed]",
      "text/plain": [
       "<Figure size 640x480 with 1 Axes>"
      ]
     },
     "metadata": {},
     "output_type": "display_data"
    }
   ],
   "source": [
    "#Q10\n",
    "plt.scatter(x_test, y_test, color = 'red')\n",
    "plt.plot(x_train, reg.predict(x_train), color = 'blue')\n",
    "plt.title('Evolution des loyers')\n",
    "plt.xlabel('Trimestre')\n",
    "plt.ylabel('Loyer')\n",
    "plt.show()"
   ]
  },
  {
   "cell_type": "code",
   "execution_count": 84,
   "id": "6b8998d5",
   "metadata": {},
   "outputs": [
    {
     "data": {
      "text/plain": [
       "2.229851775299757"
      ]
     },
     "execution_count": 84,
     "metadata": {},
     "output_type": "execute_result"
    }
   ],
   "source": [
    "from sklearn.metrics import mean_squared_error,accuracy_score\n",
    "MSE=np.mean((y_test-predictions)**2)\n",
    "MSE"
   ]
  },
  {
   "cell_type": "code",
   "execution_count": null,
   "id": "bc9e62af",
   "metadata": {},
   "outputs": [],
   "source": []
  }
 ],
 "metadata": {
  "kernelspec": {
   "display_name": "Python 3 (ipykernel)",
   "language": "python",
   "name": "python3"
  },
  "language_info": {
   "codemirror_mode": {
    "name": "ipython",
    "version": 3
   },
   "file_extension": ".py",
   "mimetype": "text/x-python",
   "name": "python",
   "nbconvert_exporter": "python",
   "pygments_lexer": "ipython3",
   "version": "3.9.13"
  }
 },
 "nbformat": 4,
 "nbformat_minor": 5
}
